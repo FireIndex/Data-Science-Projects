{
 "cells": [
  {
   "cell_type": "code",
   "execution_count": null,
   "id": "81260a72",
   "metadata": {},
   "outputs": [],
   "source": [
    "import math\n",
    "import pandas as pd\n",
    "import numpy as np"
   ]
  },
  {
   "cell_type": "code",
   "execution_count": null,
   "id": "7fbe8507",
   "metadata": {},
   "outputs": [],
   "source": [
    "matches = pd.read_csv(\"data/IPL_Matches_2008_2022.csv\")\n",
    "balls = pd.read_csv(\"data/IPL_Ball_by_Ball_2008_2022.csv\")"
   ]
  },
  {
   "cell_type": "code",
   "execution_count": null,
   "id": "c5fa14fd",
   "metadata": {},
   "outputs": [],
   "source": [
    "matches.info()"
   ]
  },
  {
   "cell_type": "code",
   "execution_count": null,
   "id": "8b189d9d",
   "metadata": {},
   "outputs": [],
   "source": [
    "balls.info()"
   ]
  },
  {
   "cell_type": "code",
   "execution_count": null,
   "id": "fea58d2d",
   "metadata": {},
   "outputs": [],
   "source": [
    "balls.ID = balls.ID.astype(np.int32)\n",
    "balls.info()"
   ]
  },
  {
   "cell_type": "code",
   "execution_count": null,
   "id": "6589b97e",
   "metadata": {},
   "outputs": [],
   "source": [
    "balls.innings = balls.innings.astype(np.int8)\n",
    "balls.info()"
   ]
  },
  {
   "cell_type": "code",
   "execution_count": null,
   "id": "5f88c20d",
   "metadata": {},
   "outputs": [],
   "source": [
    "balls.overs = balls.overs.astype(np.int8)\n",
    "balls.info()"
   ]
  },
  {
   "cell_type": "code",
   "execution_count": null,
   "id": "35608a23",
   "metadata": {},
   "outputs": [],
   "source": [
    "balls.ballnumber = balls.ballnumber.astype(np.int8)\n",
    "balls.info()"
   ]
  },
  {
   "cell_type": "code",
   "execution_count": null,
   "id": "fc31dcdd",
   "metadata": {},
   "outputs": [],
   "source": [
    "balls.batter = balls.batter.astype('category')\n",
    "balls.info()"
   ]
  },
  {
   "cell_type": "code",
   "execution_count": null,
   "id": "138fdcf7",
   "metadata": {},
   "outputs": [],
   "source": [
    "balls.bowler = balls.bowler.astype('category')\n",
    "balls.info()"
   ]
  },
  {
   "cell_type": "code",
   "execution_count": null,
   "id": "0729ee4c",
   "metadata": {},
   "outputs": [],
   "source": [
    "balls['non-striker'] = balls['non-striker'].astype('category')\n",
    "balls.info()"
   ]
  },
  {
   "cell_type": "code",
   "execution_count": null,
   "id": "aed1eff3",
   "metadata": {},
   "outputs": [],
   "source": [
    "balls.batsman_run = balls.batsman_run.astype(np.int8)\n",
    "balls.extras_run = balls.extras_run.astype(np.int8)\n",
    "balls.total_run = balls.total_run.astype(np.int8)\n",
    "balls.non_boundary = balls.non_boundary.astype(np.int8)\n",
    "balls.isWicketDelivery = balls.isWicketDelivery.astype(np.int8)\n",
    "balls.info()"
   ]
  },
  {
   "cell_type": "code",
   "execution_count": null,
   "id": "657a5d2a",
   "metadata": {},
   "outputs": [],
   "source": [
    "balls.player_out = balls.player_out.astype('category')\n",
    "balls.info()"
   ]
  },
  {
   "cell_type": "code",
   "execution_count": null,
   "id": "b970bb76",
   "metadata": {},
   "outputs": [],
   "source": [
    "balls.kind = balls.kind.astype('category')\n",
    "balls.info()"
   ]
  },
  {
   "cell_type": "code",
   "execution_count": null,
   "id": "9b6a0ec1",
   "metadata": {},
   "outputs": [],
   "source": [
    "balls.fielders_involved = balls.fielders_involved.astype('category')\n",
    "balls.info()"
   ]
  },
  {
   "cell_type": "code",
   "execution_count": null,
   "id": "a2d5105c",
   "metadata": {},
   "outputs": [],
   "source": [
    "balls.BattingTeam = balls.BattingTeam.astype('category')\n",
    "balls.info()"
   ]
  },
  {
   "cell_type": "code",
   "execution_count": null,
   "id": "bd097ac3",
   "metadata": {},
   "outputs": [],
   "source": [
    "balls.extra_type = balls.extra_type.astype('category')\n",
    "balls.info()"
   ]
  },
  {
   "cell_type": "code",
   "execution_count": null,
   "id": "2a717215",
   "metadata": {},
   "outputs": [],
   "source": []
  },
  {
   "cell_type": "code",
   "execution_count": null,
   "id": "7b602f44",
   "metadata": {},
   "outputs": [],
   "source": []
  }
 ],
 "metadata": {
  "kernelspec": {
   "display_name": "Python 3 (ipykernel)",
   "language": "python",
   "name": "python3"
  },
  "language_info": {
   "codemirror_mode": {
    "name": "ipython",
    "version": 3
   },
   "file_extension": ".py",
   "mimetype": "text/x-python",
   "name": "python",
   "nbconvert_exporter": "python",
   "pygments_lexer": "ipython3",
   "version": "3.11.4"
  }
 },
 "nbformat": 4,
 "nbformat_minor": 5
}
