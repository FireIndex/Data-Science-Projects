{
 "cells": [
  {
   "cell_type": "code",
   "execution_count": null,
   "id": "25e92347",
   "metadata": {},
   "outputs": [],
   "source": [
    "import numpy as np\n",
    "import pandas as pd\n",
    "import matplotlib.pyplot as plt"
   ]
  },
  {
   "cell_type": "code",
   "execution_count": null,
   "id": "79cc0a80",
   "metadata": {},
   "outputs": [],
   "source": [
    "data = pd.read_csv('3. CLEAN/District Population Census.csv')"
   ]
  },
  {
   "cell_type": "code",
   "execution_count": null,
   "id": "6b1975a9",
   "metadata": {},
   "outputs": [],
   "source": [
    "data.head()"
   ]
  },
  {
   "cell_type": "code",
   "execution_count": null,
   "id": "6ca4599e",
   "metadata": {},
   "outputs": [],
   "source": [
    "data.info()"
   ]
  },
  {
   "cell_type": "code",
   "execution_count": null,
   "id": "ab4a68c7",
   "metadata": {
    "scrolled": true
   },
   "outputs": [],
   "source": [
    "data.describe()"
   ]
  },
  {
   "cell_type": "code",
   "execution_count": null,
   "id": "d176af8a",
   "metadata": {},
   "outputs": [],
   "source": [
    "# Data Cleaning"
   ]
  },
  {
   "cell_type": "code",
   "execution_count": null,
   "id": "5089eca7",
   "metadata": {},
   "outputs": [],
   "source": [
    "data.isnull().sum()"
   ]
  },
  {
   "cell_type": "code",
   "execution_count": null,
   "id": "a059a63f",
   "metadata": {},
   "outputs": [],
   "source": [
    "data['Census Year'] = pd.to_datetime(data['Census Year'], format='%Y')"
   ]
  },
  {
   "cell_type": "code",
   "execution_count": null,
   "id": "93a1f53f",
   "metadata": {},
   "outputs": [],
   "source": [
    "# Check for and remove duplicates\n",
    "data = data.drop_duplicates()"
   ]
  },
  {
   "cell_type": "code",
   "execution_count": null,
   "id": "09b6e0ce",
   "metadata": {
    "scrolled": true
   },
   "outputs": [],
   "source": [
    "data.dtypes"
   ]
  },
  {
   "cell_type": "code",
   "execution_count": null,
   "id": "aca6626c",
   "metadata": {},
   "outputs": [],
   "source": []
  },
  {
   "cell_type": "code",
   "execution_count": null,
   "id": "3b9dd90f",
   "metadata": {},
   "outputs": [],
   "source": [
    "# [EDA]"
   ]
  },
  {
   "cell_type": "code",
   "execution_count": null,
   "id": "2026b655",
   "metadata": {},
   "outputs": [],
   "source": [
    "data['State Code'].nunique()"
   ]
  },
  {
   "cell_type": "code",
   "execution_count": null,
   "id": "6f3b2629",
   "metadata": {},
   "outputs": [],
   "source": [
    "data['State Code'].nunique() == data['State Name'].nunique()"
   ]
  },
  {
   "cell_type": "code",
   "execution_count": null,
   "id": "1548e277",
   "metadata": {},
   "outputs": [],
   "source": [
    "data['District Code'].nunique()"
   ]
  },
  {
   "cell_type": "code",
   "execution_count": null,
   "id": "07ebc4b5",
   "metadata": {},
   "outputs": [],
   "source": [
    "# [EDA] Some distict name are change over time\n",
    "data['District Code'].nunique() == data['District Name'].nunique()"
   ]
  },
  {
   "cell_type": "code",
   "execution_count": null,
   "id": "98a82e29",
   "metadata": {},
   "outputs": [],
   "source": []
  },
  {
   "cell_type": "code",
   "execution_count": null,
   "id": "31ff986a",
   "metadata": {},
   "outputs": [],
   "source": []
  },
  {
   "cell_type": "code",
   "execution_count": null,
   "id": "1da07c0e",
   "metadata": {},
   "outputs": [],
   "source": [
    "import matplotlib.pyplot as plt\n",
    "import seaborn as sns\n",
    "\n",
    "# Plot population trends for each state\n",
    "plt.figure(figsize=(12, 6))\n",
    "for state in list(data['State Name'].unique())[:10]:\n",
    "    state_data = data[data['State Name'] == state].groupby('Census Year')['Persons'].sum().reset_index().sort_values(by='Census Year')\n",
    "    plt.plot(state_data['Census Year'], state_data['Persons'], label=state) #.pct_change()\n",
    "\n",
    "plt.xlabel('Year')\n",
    "plt.ylabel('Total Population')\n",
    "plt.title('Population Trends by State')\n",
    "plt.legend(loc='upper left', bbox_to_anchor=(1, 1))\n",
    "plt.show()\n"
   ]
  },
  {
   "cell_type": "code",
   "execution_count": null,
   "id": "e33f63f9",
   "metadata": {},
   "outputs": [],
   "source": [
    "# Plot population trends for each district\n",
    "plt.figure(figsize=(12, 6))\n",
    "for district in list(data['District Name'].unique())[:10]:\n",
    "    district_data = data[data['District Name'] == district]\n",
    "    plt.plot(district_data['Census Year'], district_data['Persons'], label=district)\n",
    "\n",
    "plt.xlabel('Year')\n",
    "plt.ylabel('Total Population')\n",
    "plt.title('Population Trends by district')\n",
    "plt.legend(loc='upper left', bbox_to_anchor=(1, 1))\n",
    "plt.show()\n"
   ]
  },
  {
   "cell_type": "code",
   "execution_count": null,
   "id": "ded358f6",
   "metadata": {},
   "outputs": [],
   "source": [
    "# Plot gender distribution over time\n",
    "plt.figure(figsize=(12, 6))\n",
    "sns.lineplot(data=data, x='Census Year', y='Males', hue='District Name')\n",
    "sns.lineplot(data=data, x='Census Year', y='Females', hue='District Name', linestyle='--')\n",
    "plt.xlabel('Year')\n",
    "plt.ylabel('Population')\n",
    "plt.title('Gender Distribution by District')\n",
    "plt.legend(loc='upper left', bbox_to_anchor=(1, 1))\n",
    "plt.show()"
   ]
  },
  {
   "cell_type": "code",
   "execution_count": null,
   "id": "8310837e",
   "metadata": {
    "scrolled": true
   },
   "outputs": [],
   "source": []
  },
  {
   "cell_type": "code",
   "execution_count": null,
   "id": "c5abb389",
   "metadata": {},
   "outputs": [],
   "source": []
  },
  {
   "cell_type": "code",
   "execution_count": null,
   "id": "76bf39d8",
   "metadata": {},
   "outputs": [],
   "source": []
  },
  {
   "cell_type": "code",
   "execution_count": null,
   "id": "5a0e0798",
   "metadata": {},
   "outputs": [],
   "source": []
  }
 ],
 "metadata": {
  "kernelspec": {
   "display_name": "Python 3 (ipykernel)",
   "language": "python",
   "name": "python3"
  },
  "language_info": {
   "codemirror_mode": {
    "name": "ipython",
    "version": 3
   },
   "file_extension": ".py",
   "mimetype": "text/x-python",
   "name": "python",
   "nbconvert_exporter": "python",
   "pygments_lexer": "ipython3",
   "version": "3.11.4"
  }
 },
 "nbformat": 4,
 "nbformat_minor": 5
}
